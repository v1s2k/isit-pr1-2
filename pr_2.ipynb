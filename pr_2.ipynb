{
 "cells": [
  {
   "cell_type": "code",
   "execution_count": 1,
   "metadata": {},
   "outputs": [],
   "source": [
    "from apriori_python import apriori\n",
    "from efficient_apriori import apriori as eff_apriori\n",
    "import pandas as pd\n",
    "from pprint import pprint"
   ]
  },
  {
   "cell_type": "code",
   "execution_count": 24,
   "metadata": {},
   "outputs": [],
   "source": [
    "data = pd.read_excel(\"Online Retail.xlsx\").groupby(\"InvoiceNo\").agg(lambda x: list(x)).Description.dropna().drop_duplicates().to_list()\n"
   ]
  },
  {
   "cell_type": "code",
   "execution_count": 25,
   "metadata": {},
   "outputs": [
    {
     "name": "stdout",
     "output_type": "stream",
     "text": [
      "21144\n"
     ]
    }
   ],
   "source": [
    "\n",
    "pprint(len(data))"
   ]
  },
  {
   "cell_type": "code",
   "execution_count": 40,
   "metadata": {},
   "outputs": [
    {
     "name": "stdout",
     "output_type": "stream",
     "text": [
      "[[{'PINK REGENCY TEACUP AND SAUCER'},\n",
      "  {'GREEN REGENCY TEACUP AND SAUCER'},\n",
      "  0.816793893129771],\n",
      " [{'GREEN REGENCY TEACUP AND SAUCER', 'PINK REGENCY TEACUP AND SAUCER'},\n",
      "  {'ROSES REGENCY TEACUP AND SAUCER '},\n",
      "  0.8520249221183801],\n",
      " [{'ROSES REGENCY TEACUP AND SAUCER ', 'PINK REGENCY TEACUP AND SAUCER'},\n",
      "  {'GREEN REGENCY TEACUP AND SAUCER'},\n",
      "  0.8967213114754098]]\n",
      "3\n"
     ]
    }
   ],
   "source": [
    "freqItemSet, rules = apriori(data, minSup=0.02, minConf=0.8)\n",
    "pprint(rules)\n",
    "print(len(rules))"
   ]
  },
  {
   "cell_type": "code",
   "execution_count": 36,
   "metadata": {},
   "outputs": [
    {
     "name": "stdout",
     "output_type": "stream",
     "text": [
      "[{PINK REGENCY TEACUP AND SAUCER} -> {GREEN REGENCY TEACUP AND SAUCER},\n",
      " {PINK REGENCY TEACUP AND SAUCER, ROSES REGENCY TEACUP AND SAUCER } -> {GREEN REGENCY TEACUP AND SAUCER},\n",
      " {GREEN REGENCY TEACUP AND SAUCER, PINK REGENCY TEACUP AND SAUCER} -> {ROSES REGENCY TEACUP AND SAUCER }]\n",
      "3\n"
     ]
    }
   ],
   "source": [
    "freqItemSet, rules = eff_apriori(data, min_support=0.02, min_confidence=0.8)\n",
    "pprint(rules)\n",
    "print(len(rules))"
   ]
  },
  {
   "cell_type": "code",
   "execution_count": 38,
   "metadata": {},
   "outputs": [
    {
     "name": "stdout",
     "output_type": "stream",
     "text": [
      "[[{'PINK REGENCY TEACUP AND SAUCER', 'REGENCY CAKESTAND 3 TIER'},\n",
      "  {'GREEN REGENCY TEACUP AND SAUCER'},\n",
      "  0.8628428927680798],\n",
      " [{'PINK REGENCY TEACUP AND SAUCER', 'REGENCY CAKESTAND 3 TIER'},\n",
      "  {'GREEN REGENCY TEACUP AND SAUCER'},\n",
      "  0.8628428927680798],\n",
      " [{'PINK REGENCY TEACUP AND SAUCER', 'REGENCY CAKESTAND 3 TIER'},\n",
      "  {'GREEN REGENCY TEACUP AND SAUCER'},\n",
      "  0.8628428927680798],\n",
      " [{'PINK REGENCY TEACUP AND SAUCER', 'REGENCY CAKESTAND 3 TIER'},\n",
      "  {'GREEN REGENCY TEACUP AND SAUCER'},\n",
      "  0.8628428927680798],\n",
      " [{'PINK REGENCY TEACUP AND SAUCER', 'REGENCY CAKESTAND 3 TIER'},\n",
      "  {'GREEN REGENCY TEACUP AND SAUCER'},\n",
      "  0.8628428927680798],\n",
      " [{'PINK REGENCY TEACUP AND SAUCER', 'REGENCY CAKESTAND 3 TIER'},\n",
      "  {'GREEN REGENCY TEACUP AND SAUCER'},\n",
      "  0.8628428927680798],\n",
      " [{'PINK REGENCY TEACUP AND SAUCER', 'REGENCY CAKESTAND 3 TIER'},\n",
      "  {'GREEN REGENCY TEACUP AND SAUCER'},\n",
      "  0.8628428927680798],\n",
      " [{'PINK REGENCY TEACUP AND SAUCER', 'REGENCY CAKESTAND 3 TIER'},\n",
      "  {'GREEN REGENCY TEACUP AND SAUCER'},\n",
      "  0.8628428927680798],\n",
      " [{'PINK REGENCY TEACUP AND SAUCER', 'REGENCY CAKESTAND 3 TIER'},\n",
      "  {'GREEN REGENCY TEACUP AND SAUCER'},\n",
      "  0.8628428927680798],\n",
      " [{'PINK REGENCY TEACUP AND SAUCER', 'REGENCY CAKESTAND 3 TIER'},\n",
      "  {'GREEN REGENCY TEACUP AND SAUCER'},\n",
      "  0.8628428927680798],\n",
      " [{'ROSES REGENCY TEACUP AND SAUCER ', 'PINK REGENCY TEACUP AND SAUCER'},\n",
      "  {'GREEN REGENCY TEACUP AND SAUCER'},\n",
      "  0.8967213114754098],\n",
      " [{'GREEN REGENCY TEACUP AND SAUCER', 'PINK REGENCY TEACUP AND SAUCER'},\n",
      "  {'ROSES REGENCY TEACUP AND SAUCER '},\n",
      "  0.8520249221183801],\n",
      " [{'ROSES REGENCY TEACUP AND SAUCER ', 'PINK REGENCY TEACUP AND SAUCER'},\n",
      "  {'GREEN REGENCY TEACUP AND SAUCER'},\n",
      "  0.8967213114754098],\n",
      " [{'GREEN REGENCY TEACUP AND SAUCER', 'PINK REGENCY TEACUP AND SAUCER'},\n",
      "  {'ROSES REGENCY TEACUP AND SAUCER '},\n",
      "  0.8520249221183801],\n",
      " [{'ROSES REGENCY TEACUP AND SAUCER ', 'PINK REGENCY TEACUP AND SAUCER'},\n",
      "  {'GREEN REGENCY TEACUP AND SAUCER'},\n",
      "  0.8967213114754098],\n",
      " [{'GREEN REGENCY TEACUP AND SAUCER', 'PINK REGENCY TEACUP AND SAUCER'},\n",
      "  {'ROSES REGENCY TEACUP AND SAUCER '},\n",
      "  0.8520249221183801],\n",
      " [{'ROSES REGENCY TEACUP AND SAUCER ', 'PINK REGENCY TEACUP AND SAUCER'},\n",
      "  {'GREEN REGENCY TEACUP AND SAUCER'},\n",
      "  0.8967213114754098],\n",
      " [{'GREEN REGENCY TEACUP AND SAUCER', 'PINK REGENCY TEACUP AND SAUCER'},\n",
      "  {'ROSES REGENCY TEACUP AND SAUCER '},\n",
      "  0.8520249221183801],\n",
      " [{'ROSES REGENCY TEACUP AND SAUCER ', 'PINK REGENCY TEACUP AND SAUCER'},\n",
      "  {'GREEN REGENCY TEACUP AND SAUCER'},\n",
      "  0.8967213114754098],\n",
      " [{'GREEN REGENCY TEACUP AND SAUCER', 'PINK REGENCY TEACUP AND SAUCER'},\n",
      "  {'ROSES REGENCY TEACUP AND SAUCER '},\n",
      "  0.8520249221183801],\n",
      " [{'ROSES REGENCY TEACUP AND SAUCER ', 'PINK REGENCY TEACUP AND SAUCER'},\n",
      "  {'GREEN REGENCY TEACUP AND SAUCER'},\n",
      "  0.8967213114754098],\n",
      " [{'GREEN REGENCY TEACUP AND SAUCER', 'PINK REGENCY TEACUP AND SAUCER'},\n",
      "  {'ROSES REGENCY TEACUP AND SAUCER '},\n",
      "  0.8520249221183801],\n",
      " [{'ROSES REGENCY TEACUP AND SAUCER ', 'PINK REGENCY TEACUP AND SAUCER'},\n",
      "  {'GREEN REGENCY TEACUP AND SAUCER'},\n",
      "  0.8967213114754098],\n",
      " [{'GREEN REGENCY TEACUP AND SAUCER', 'PINK REGENCY TEACUP AND SAUCER'},\n",
      "  {'ROSES REGENCY TEACUP AND SAUCER '},\n",
      "  0.8520249221183801],\n",
      " [{'ROSES REGENCY TEACUP AND SAUCER ', 'PINK REGENCY TEACUP AND SAUCER'},\n",
      "  {'GREEN REGENCY TEACUP AND SAUCER'},\n",
      "  0.8967213114754098],\n",
      " [{'GREEN REGENCY TEACUP AND SAUCER', 'PINK REGENCY TEACUP AND SAUCER'},\n",
      "  {'ROSES REGENCY TEACUP AND SAUCER '},\n",
      "  0.8520249221183801],\n",
      " [{'ROSES REGENCY TEACUP AND SAUCER ', 'PINK REGENCY TEACUP AND SAUCER'},\n",
      "  {'GREEN REGENCY TEACUP AND SAUCER'},\n",
      "  0.8967213114754098],\n",
      " [{'GREEN REGENCY TEACUP AND SAUCER', 'PINK REGENCY TEACUP AND SAUCER'},\n",
      "  {'ROSES REGENCY TEACUP AND SAUCER '},\n",
      "  0.8520249221183801],\n",
      " [{'ROSES REGENCY TEACUP AND SAUCER ', 'PINK REGENCY TEACUP AND SAUCER'},\n",
      "  {'GREEN REGENCY TEACUP AND SAUCER'},\n",
      "  0.8967213114754098],\n",
      " [{'GREEN REGENCY TEACUP AND SAUCER', 'PINK REGENCY TEACUP AND SAUCER'},\n",
      "  {'ROSES REGENCY TEACUP AND SAUCER '},\n",
      "  0.8520249221183801],\n",
      " [{'ROSES REGENCY TEACUP AND SAUCER ', 'PINK REGENCY TEACUP AND SAUCER'},\n",
      "  {'GREEN REGENCY TEACUP AND SAUCER'},\n",
      "  0.8967213114754098],\n",
      " [{'GREEN REGENCY TEACUP AND SAUCER', 'PINK REGENCY TEACUP AND SAUCER'},\n",
      "  {'ROSES REGENCY TEACUP AND SAUCER '},\n",
      "  0.8520249221183801],\n",
      " [{'PINK REGENCY TEACUP AND SAUCER'},\n",
      "  {'GREEN REGENCY TEACUP AND SAUCER'},\n",
      "  0.816793893129771],\n",
      " [{'PINK REGENCY TEACUP AND SAUCER'},\n",
      "  {'GREEN REGENCY TEACUP AND SAUCER'},\n",
      "  0.816793893129771],\n",
      " [{'PINK REGENCY TEACUP AND SAUCER'},\n",
      "  {'GREEN REGENCY TEACUP AND SAUCER'},\n",
      "  0.816793893129771],\n",
      " [{'PINK REGENCY TEACUP AND SAUCER'},\n",
      "  {'GREEN REGENCY TEACUP AND SAUCER'},\n",
      "  0.816793893129771],\n",
      " [{'PINK REGENCY TEACUP AND SAUCER'},\n",
      "  {'GREEN REGENCY TEACUP AND SAUCER'},\n",
      "  0.816793893129771],\n",
      " [{'PINK REGENCY TEACUP AND SAUCER'},\n",
      "  {'GREEN REGENCY TEACUP AND SAUCER'},\n",
      "  0.816793893129771],\n",
      " [{'PINK REGENCY TEACUP AND SAUCER'},\n",
      "  {'GREEN REGENCY TEACUP AND SAUCER'},\n",
      "  0.816793893129771],\n",
      " [{'PINK REGENCY TEACUP AND SAUCER'},\n",
      "  {'GREEN REGENCY TEACUP AND SAUCER'},\n",
      "  0.816793893129771],\n",
      " [{'PINK REGENCY TEACUP AND SAUCER'},\n",
      "  {'GREEN REGENCY TEACUP AND SAUCER'},\n",
      "  0.816793893129771],\n",
      " [{'PINK REGENCY TEACUP AND SAUCER'},\n",
      "  {'GREEN REGENCY TEACUP AND SAUCER'},\n",
      "  0.816793893129771],\n",
      " [{'JUMBO STORAGE BAG SUKI', 'JUMBO BAG PINK POLKADOT'},\n",
      "  {'JUMBO BAG RED RETROSPOT'},\n",
      "  0.803088803088803]]\n",
      "43\n"
     ]
    }
   ],
   "source": [
    "from fpgrowth_py import fpgrowth\n",
    "\n",
    "freqItemSet, rules = fpgrowth(data, minSupRatio=0.02, minConf=0.8)\n",
    "pprint(rules)\n",
    "print(len(rules))"
   ]
  }
 ],
 "metadata": {
  "kernelspec": {
   "display_name": "venv",
   "language": "python",
   "name": "python3"
  },
  "language_info": {
   "codemirror_mode": {
    "name": "ipython",
    "version": 3
   },
   "file_extension": ".py",
   "mimetype": "text/x-python",
   "name": "python",
   "nbconvert_exporter": "python",
   "pygments_lexer": "ipython3",
   "version": "3.11.0"
  },
  "orig_nbformat": 4
 },
 "nbformat": 4,
 "nbformat_minor": 2
}
